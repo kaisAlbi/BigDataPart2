{
 "cells": [
  {
   "cell_type": "markdown",
   "metadata": {},
   "source": [
    "## Sending data to a Kafka server\n",
    "\n",
    "This notebook uses the [Python client for the Apache Kafka distributed stream processing system](http://kafka-python.readthedocs.io/en/master/index.html) to send messages to a Kafka server. \n",
    "\n",
    "* Sensor data is available from https://uv.ulb.ac.be/pluginfile.php/923479/course/section/165902/data.conv.txt.gz\n",
    "* Sensor location is available from https://uv.ulb.ac.be/pluginfile.php/923479/course/section/165902/mote_locs.txt\n",
    "\n",
    "In this example, Kafka is used to send messages containing the temperature data of sensor 1, from the 28/02 to the 06/03.\n",
    "\n",
    "You need to have Kafka and Zookeeper servers running to execut this notebook. If you use the Docker course container, or work on the course cluster, these servers should already be running. Otherwise, you may start them on your machine with\n",
    "\n",
    "```\n",
    "nohup $KAFKA_PATH/bin/zookeeper-server-start.sh $KAFKA_PATH/config/zookeeper.properties  > $HOME/zookeeper.log 2>&1 &\n",
    "nohup $KAFKA_PATH/bin/kafka-server-start.sh $KAFKA_PATH/config/server.properties > $HOME/kafka.log 2>&1 &\n",
    "```\n",
    "\n",
    "where `KAFKA_PATH` points to the folder containing Kafka. See https://kafka.apache.org/quickstart for how to install Kafka on your machine. \n"
   ]
  },
  {
   "cell_type": "markdown",
   "metadata": {},
   "source": [
    "### General import"
   ]
  },
  {
   "cell_type": "code",
   "execution_count": 1,
   "metadata": {},
   "outputs": [],
   "source": [
    "from kafka import KafkaProducer\n",
    "import time\n",
    "import numpy as np\n",
    "import pandas as pd\n",
    "import math"
   ]
  },
  {
   "cell_type": "markdown",
   "metadata": {},
   "source": [
    "### Get the n closest sensors"
   ]
  },
  {
   "cell_type": "code",
   "execution_count": 2,
   "metadata": {},
   "outputs": [],
   "source": [
    "def getSensorsLoc(locations_file):\n",
    "    \"\"\"\n",
    "    returns an array where each element is [sensor, x_coord, y_coord] based on a location file\n",
    "    \"\"\"\n",
    "    sensors_loc = []\n",
    "    with open(locations_file, \"r\") as f:\n",
    "        lines = f.readlines()\n",
    "        for line in lines:\n",
    "            info = line.split(\" \")\n",
    "            sensor = int(info[0])\n",
    "            x = float(info[1])\n",
    "            y = float(info[2])\n",
    "            sensors_loc.append([sensor, x, y])\n",
    "    sensors_loc = np.array(sensors_loc)\n",
    "    return sensors_loc\n",
    "\n",
    "def getNClosestNeighbors(sensorId, sensors_loc, n):\n",
    "    \"\"\"\n",
    "    returns a list of n closest neighbors ordered from closest to furthest to the given sensorId\n",
    "    \"\"\"\n",
    "\n",
    "    index_sensor_id = np.where(sensors_loc[:,0] == sensorId)[0][0]\n",
    "    x_sensor = sensors_loc[index_sensor_id, 1]\n",
    "    y_sensor = sensors_loc[index_sensor_id, 2]\n",
    "\n",
    "    neighbors = []\n",
    "    distances = []\n",
    "    for i in range(len(sensors_loc)):\n",
    "        if i!= index_sensor_id:\n",
    "            id_neighbor = sensors_loc[i,0]\n",
    "            x_neighbor = sensors_loc[i,1]\n",
    "            y_neighbor = sensors_loc[i,2]\n",
    "            x = x_sensor - x_neighbor\n",
    "            y = y_sensor - y_neighbor\n",
    "            distance = math.sqrt(math.pow(x,2) + math.pow(y,2))\n",
    "            neighbors.append(id_neighbor)\n",
    "            distances.append(distance)\n",
    "    ar_neighbors = np.array(neighbors)\n",
    "    ar_distances = np.array(distances)\n",
    "    inds = ar_distances.argsort()\n",
    "    sorted_neighbors = ar_neighbors[inds]\n",
    "    sorted_distances = ar_distances[inds]\n",
    "\n",
    "    return sorted_neighbors[:n]"
   ]
  },
  {
   "cell_type": "markdown",
   "metadata": {},
   "source": [
    "### Generate lists of 5 closest neighbors of sensor 1 and of sensor 24"
   ]
  },
  {
   "cell_type": "code",
   "execution_count": 3,
   "metadata": {},
   "outputs": [],
   "source": [
    "DATA_LOCATION = \"../data\"\n",
    "FILE = \"data.conv.txt\"\n",
    "LOC = \"mote_locs.txt\"\n",
    "data_file = \"{}/{}\".format(DATA_LOCATION, FILE)\n",
    "data_loc = \"{}/{}\".format(DATA_LOCATION, LOC)\n",
    "\n",
    "sensors_loc = getSensorsLoc(data_loc)\n",
    "n = 5\n",
    "closest_neighbors_1 = getNClosestNeighbors(1, sensors_loc,n)\n",
    "closest_neighbors_24 = getNClosestNeighbors(24, sensors_loc,n)"
   ]
  },
  {
   "cell_type": "markdown",
   "metadata": {},
   "source": [
    "### Load measurements, sort by Date/Time, add relative number of seconds since beginning"
   ]
  },
  {
   "cell_type": "code",
   "execution_count": 4,
   "metadata": {},
   "outputs": [],
   "source": [
    "#Takes about one minute to load\n",
    "data=pd.read_csv(data_file,header=None,sep=\" \")\n",
    "data.columns=[\"Date\",\"Hour\",\"Sensor\",\"Value\",\"Voltage\"]\n",
    "data=data.sort_values(['Date','Hour']).reset_index(drop=True)"
   ]
  },
  {
   "cell_type": "code",
   "execution_count": 5,
   "metadata": {},
   "outputs": [],
   "source": [
    "data['datetime']=pd.to_datetime(data.Date+' '+data.Hour)\n",
    "data['relative_datetime']=data['datetime']-data['datetime'][0]\n",
    "data['seconds']=data['relative_datetime'].dt.total_seconds()"
   ]
  },
  {
   "cell_type": "code",
   "execution_count": 6,
   "metadata": {},
   "outputs": [],
   "source": [
    "sensorId_type=data.Sensor.str.split(\"-\",expand=True)\n",
    "sensorId_type.columns=['SensorId','Type']\n",
    "data['SensorId']=sensorId_type['SensorId'].astype(int)\n",
    "data['Type']=sensorId_type['Type'].astype(int)\n"
   ]
  },
  {
   "cell_type": "code",
   "execution_count": 7,
   "metadata": {},
   "outputs": [],
   "source": [
    "#Drop features not needed for the simulation\n",
    "data=data.drop(['datetime','relative_datetime','Sensor','Date','Hour','Voltage'],axis=1)"
   ]
  },
  {
   "cell_type": "markdown",
   "metadata": {},
   "source": [
    "### Select temperature data from sensors 1, 24 and their 5 closest neighbors"
   ]
  },
  {
   "cell_type": "code",
   "execution_count": 8,
   "metadata": {},
   "outputs": [],
   "source": [
    "def getSensorsAndNeighbors(data, sensorsToPredict, neighbors):\n",
    "    \"\"\"\n",
    "    Retrieve data of sensors to predict and their neighbors\n",
    "    :param data: full dataframe of data\n",
    "    :param sensorsToPredict: list of sensors to predict\n",
    "    :param neighbors: list of sensors to predict's neighbors\n",
    "    \"\"\"\n",
    "    new_df = []\n",
    "    for i in range(len(sensorsToPredict)):\n",
    "        sensorToPredict = sensorsToPredict[i]\n",
    "        neighbors_sensor = neighbors[i]\n",
    "        temp = data[((data.SensorId==sensorToPredict) | (data.SensorId.isin(neighbors_sensor))) & (data.Type==0)  & (data.seconds<=8*86400)]\n",
    "        temp=temp.reset_index(drop=True).drop(['Type'], axis=1)\n",
    "        temp[\"SensorToPredict\"] = sensorToPredict\n",
    "        new_df.append(temp)\n",
    "    whole_df = pd.concat(new_df)\n",
    "    return whole_df\n",
    "\n",
    "sensorsToPredict = [1,24]\n",
    "neighbors = [closest_neighbors_1, closest_neighbors_24]\n",
    "temp = getSensorsAndNeighbors(data, sensorsToPredict, neighbors).sort_values(by=\"seconds\")"
   ]
  },
  {
   "cell_type": "markdown",
   "metadata": {},
   "source": [
    "### Create  Kafka producer"
   ]
  },
  {
   "cell_type": "code",
   "execution_count": 9,
   "metadata": {},
   "outputs": [],
   "source": [
    "producer = KafkaProducer(bootstrap_servers='localhost:9092')"
   ]
  },
  {
   "cell_type": "markdown",
   "metadata": {},
   "source": [
    "### Stream data\n",
    "\n",
    "We simulate the streaming of data by sending every ~30 seconds the set of measurements collected during one day. This allows to speed up the simulation (for 8 days - from 28/02/2017 to 7/03/2017: 8*60=480 seconds).\n"
   ]
  },
  {
   "cell_type": "code",
   "execution_count": 14,
   "metadata": {},
   "outputs": [
    {
     "name": "stdout",
     "output_type": "stream",
     "text": [
      "Time to send 42773 measurements (day 0 ) : 18.76419234275818\n",
      "Time to send 23166 measurements (day 1 ) : 26.659543752670288\n",
      "Time to send 21619 measurements (day 2 ) : 29.855582237243652\n",
      "Time to send 20677 measurements (day 3 ) : 36.620277643203735\n",
      "Time to send 21750 measurements (day 4 ) : 33.78257656097412\n",
      "Time to send 21137 measurements (day 5 ) : 33.32421588897705\n",
      "Time to send 22543 measurements (day 6 ) : 33.43276023864746\n",
      "Time to send 23562 measurements (day 7 ) : 35.94372844696045\n"
     ]
    }
   ],
   "source": [
    "interval=60\n",
    "\n",
    "#Start at relative day 0 (2017-02-28)\n",
    "day=0\n",
    "\n",
    "#For synchronization with receiver (for the sake of the simulation), starts at a number of seconds multiple of 'interval'\n",
    "current_time=time.time()\n",
    "time_to_wait=interval-current_time%interval\n",
    "time.sleep(time_to_wait)\n",
    "\n",
    "#Loop for sending messages to Kafka with the topic persistence\n",
    "for day in range(0,8):\n",
    "    \n",
    "    time_start=time.time()\n",
    "    \n",
    "    #Select sensor measurements for the corresponding relative day\n",
    "    data_current_day=temp[(temp.seconds>=day*86400) & (temp.seconds<(day+1)*86400)]\n",
    "    data_current_day=data_current_day.dropna()\n",
    "    #For all measurements in that hour\n",
    "    for i in range(len(data_current_day)):\n",
    "        #Get data\n",
    "        current_data=list(data_current_day.iloc[i])\n",
    "        #Transform list to string\n",
    "        message=str(current_data)\n",
    "        #Send\n",
    "        producer.send('RLS',message.encode())\n",
    "    \n",
    "    time_to_send=time.time()-time_start\n",
    "    print(\"Time to send \"+str(len(data_current_day))+\" measurements (day \"+str(day)+\" ) : \"+str(time_to_send))\n",
    "\n",
    "    day=day+1\n",
    "    \n",
    "    time.sleep(interval-time_to_send)"
   ]
  },
  {
   "cell_type": "code",
   "execution_count": null,
   "metadata": {},
   "outputs": [],
   "source": []
  },
  {
   "cell_type": "code",
   "execution_count": null,
   "metadata": {},
   "outputs": [],
   "source": []
  }
 ],
 "metadata": {
  "kernelspec": {
   "display_name": "Python 3",
   "language": "python",
   "name": "python3"
  },
  "language_info": {
   "codemirror_mode": {
    "name": "ipython",
    "version": 3
   },
   "file_extension": ".py",
   "mimetype": "text/x-python",
   "name": "python",
   "nbconvert_exporter": "python",
   "pygments_lexer": "ipython3",
   "version": "3.7.1"
  }
 },
 "nbformat": 4,
 "nbformat_minor": 1
}
