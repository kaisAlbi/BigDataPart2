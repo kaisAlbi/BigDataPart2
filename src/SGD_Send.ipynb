{
 "cells": [
  {
   "cell_type": "markdown",
   "metadata": {},
   "source": [
    "## Sending data to a Kafka server\n",
    "\n",
    "This notebook uses the [Python client for the Apache Kafka distributed stream processing system](http://kafka-python.readthedocs.io/en/master/index.html) to send messages to a Kafka server. \n",
    "\n",
    "* Sensor data is available from https://uv.ulb.ac.be/pluginfile.php/923479/course/section/165902/data.conv.txt.gz\n",
    "* Sensor location is available from https://uv.ulb.ac.be/pluginfile.php/923479/course/section/165902/mote_locs.txt\n",
    "\n",
    "In this example, Kafka is used to send messages containing the temperature data of sensor 1, from the 28/02 to the 06/03.\n",
    "\n",
    "You need to have Kafka and Zookeeper servers running to execut this notebook. If you use the Docker course container, or work on the course cluster, these servers should already be running. Otherwise, you may start them on your machine with\n",
    "\n",
    "```\n",
    "nohup $KAFKA_PATH/bin/zookeeper-server-start.sh $KAFKA_PATH/config/zookeeper.properties  > $HOME/zookeeper.log 2>&1 &\n",
    "nohup $KAFKA_PATH/bin/kafka-server-start.sh $KAFKA_PATH/config/server.properties > $HOME/kafka.log 2>&1 &\n",
    "```\n",
    "\n",
    "where `KAFKA_PATH` points to the folder containing Kafka. See https://kafka.apache.org/quickstart for how to install Kafka on your machine. \n"
   ]
  },
  {
   "cell_type": "markdown",
   "metadata": {},
   "source": [
    "### General import"
   ]
  },
  {
   "cell_type": "code",
   "execution_count": 1,
   "metadata": {},
   "outputs": [],
   "source": [
    "from kafka import KafkaProducer\n",
    "import time\n",
    "import numpy as np\n",
    "import pandas as pd"
   ]
  },
  {
   "cell_type": "markdown",
   "metadata": {},
   "source": [
    "### Load measurements, sort by Date/Time, add relative number of seconds since beginning"
   ]
  },
  {
   "cell_type": "code",
   "execution_count": 2,
   "metadata": {},
   "outputs": [],
   "source": [
    "DATA_LOCATION = \"../data\"\n",
    "FILE = \"data.conv.txt\"\n",
    "data_file = \"{}/{}\".format(DATA_LOCATION, FILE)\n",
    "\n",
    "#Takes about one minute to load\n",
    "data=pd.read_csv(data_file,header=None,sep=\" \")\n",
    "data.columns=[\"Date\",\"Hour\",\"Sensor\",\"Value\",\"Voltage\"]\n",
    "data=data.sort_values(['Date','Hour']).reset_index(drop=True)"
   ]
  },
  {
   "cell_type": "code",
   "execution_count": 3,
   "metadata": {},
   "outputs": [],
   "source": [
    "data['datetime']=pd.to_datetime(data.Date+' '+data.Hour)\n",
    "data['relative_datetime']=data['datetime']-data['datetime'][0]\n",
    "data['seconds']=data['relative_datetime'].dt.total_seconds()"
   ]
  },
  {
   "cell_type": "code",
   "execution_count": 4,
   "metadata": {},
   "outputs": [],
   "source": [
    "sensorId_type=data.Sensor.str.split(\"-\",expand=True)\n",
    "sensorId_type.columns=['SensorId','Type']\n",
    "data['SensorId']=sensorId_type['SensorId'].astype(int)\n",
    "data['Type']=sensorId_type['Type'].astype(int)\n"
   ]
  },
  {
   "cell_type": "code",
   "execution_count": 5,
   "metadata": {},
   "outputs": [],
   "source": [
    "#Drop features not needed for the simulation\n",
    "data=data.drop(['datetime','relative_datetime','Sensor','Date','Hour','Voltage'],axis=1)"
   ]
  },
  {
   "cell_type": "markdown",
   "metadata": {},
   "source": [
    "### Select temperature data from sensor 1 and 24"
   ]
  },
  {
   "cell_type": "code",
   "execution_count": 6,
   "metadata": {},
   "outputs": [],
   "source": [
    "temp = data[((data.SensorId==1) | (data.SensorId==24)) & (data.Type==0)]\n",
    "temp=temp.reset_index(drop=True).drop(['Type'], axis=1)"
   ]
  },
  {
   "cell_type": "markdown",
   "metadata": {},
   "source": [
    "### Create  Kafka producer"
   ]
  },
  {
   "cell_type": "code",
   "execution_count": 7,
   "metadata": {},
   "outputs": [],
   "source": [
    "producer = KafkaProducer(bootstrap_servers='localhost:9092')"
   ]
  },
  {
   "cell_type": "markdown",
   "metadata": {},
   "source": [
    "### Stream data\n",
    "\n",
    "We simulate the streaming of data by sending every five seconds the set of measurements collected during one day. This allows to speed up the simulation (for 8 days - from 28/02/2017 to 7/03/2017: 8*15=120 seconds).\n"
   ]
  },
  {
   "cell_type": "code",
   "execution_count": 8,
   "metadata": {},
   "outputs": [
    {
     "name": "stdout",
     "output_type": "stream",
     "text": [
      "Time to send 7332 measurements (day 0 ) : 8.872701168060303\n",
      "Time to send 3880 measurements (day 1 ) : 9.067212343215942\n",
      "Time to send 3894 measurements (day 2 ) : 9.510358810424805\n",
      "Time to send 3610 measurements (day 3 ) : 8.673032760620117\n",
      "Time to send 3527 measurements (day 4 ) : 8.320244073867798\n",
      "Time to send 3397 measurements (day 5 ) : 7.125953197479248\n",
      "Time to send 4315 measurements (day 6 ) : 7.819364070892334\n",
      "Time to send 4503 measurements (day 7 ) : 12.99349594116211\n"
     ]
    }
   ],
   "source": [
    "interval=15\n",
    "\n",
    "#Start at relative day 0 (2017-02-28)\n",
    "day=0\n",
    "\n",
    "#For synchronization with receiver (for the sake of the simulation), starts at a number of seconds multiple of 'interval'\n",
    "current_time=time.time()\n",
    "time_to_wait=interval-current_time%interval\n",
    "time.sleep(time_to_wait)\n",
    "\n",
    "#Loop for sending messages to Kafka with the topic persistence\n",
    "for day in range(0,8):\n",
    "    \n",
    "    time_start=time.time()\n",
    "    \n",
    "    #Select sensor measurements for the corresponding relative day\n",
    "    data_current_day=temp[(temp.seconds>=day*86400) & (temp.seconds<(day+1)*86400)]\n",
    "    data_current_day=data_current_day.dropna()\n",
    "    #For all measurements in that hour\n",
    "    for i in range(len(data_current_day)):\n",
    "        #Get data\n",
    "        current_data=list(data_current_day.iloc[i])\n",
    "        #Transform list to string\n",
    "        message=str(current_data)\n",
    "        #Send\n",
    "        producer.send('SGD',message.encode())\n",
    "    \n",
    "    time_to_send=time.time()-time_start\n",
    "    print(\"Time to send \"+str(len(data_current_day))+\" measurements (day \"+str(day)+\" ) : \"+str(time_to_send))\n",
    "\n",
    "    day=day+1\n",
    "    \n",
    "    time.sleep(interval-time_to_send)"
   ]
  },
  {
   "cell_type": "code",
   "execution_count": null,
   "metadata": {},
   "outputs": [],
   "source": []
  },
  {
   "cell_type": "code",
   "execution_count": null,
   "metadata": {},
   "outputs": [],
   "source": []
  }
 ],
 "metadata": {
  "kernelspec": {
   "display_name": "Python 3",
   "language": "python",
   "name": "python3"
  },
  "language_info": {
   "codemirror_mode": {
    "name": "ipython",
    "version": 3
   },
   "file_extension": ".py",
   "mimetype": "text/x-python",
   "name": "python",
   "nbconvert_exporter": "python",
   "pygments_lexer": "ipython3",
   "version": "3.7.1"
  }
 },
 "nbformat": 4,
 "nbformat_minor": 1
}
